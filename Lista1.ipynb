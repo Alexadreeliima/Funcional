{
 "cells": [
  {
   "cell_type": "markdown",
   "metadata": {
    "collapsed": true
   },
   "source": [
    "# Programação Funcional Lista 1\n",
    "## Aluno : Luiz Vieira Gonzaga Neto \n",
    "## Matricula : 383842\n",
    "## Curso Ciência da Computação\n",
    "### Feito com &hearts; em  Python 3"
   ]
  },
  {
   "cell_type": "markdown",
   "metadata": {},
   "source": [
    "\n",
    "## 1. Descreva a saída dos seguintes comandos. OBS: “l” é uma lista, preencha-a a maneira que achar melhor."
   ]
  },
